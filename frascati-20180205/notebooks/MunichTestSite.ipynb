{
 "cells": [
  {
   "cell_type": "markdown",
   "metadata": {
    "collapsed": true
   },
   "source": [
    "\n",
    "\n",
    "<div id=\"image-table\">\n",
    "    <table>\n",
    "\t    <tr>\n",
    "    \t    <td style=\"padding:5px\">\n",
    "        \t    <img src=\"aux_data/media_munich/image4.jpeg\">\n",
    "      \t    </td>\n",
    "            <td style=\"padding:5px\">\n",
    "            \t<img src=\"aux_data/media_munich/image7.png\">\n",
    "             </td>\n",
    "            <td style=\"padding:5px\">\n",
    "            \t<img src=\"aux_data/media_munich/Multiply.png\">\n",
    "             </td>\n",
    "            <td style=\"padding:5px\">\n",
    "            \t<img src=\"aux_data/media_munich/image9.jpeg\">\n",
    "             </td>\n",
    "<!--            <td style=\"padding:5px\">\n",
    "            \t<img src=\"aux_data/media_munich/image3.jpeg\">\n",
    "             </td> \n",
    "            <td style=\"padding:5px\">\n",
    "            \t<img src=\"aux_data/media_munich/image5.jpeg\">\n",
    "            </td>              \n",
    "            <td style=\"padding:5px\">\n",
    "                <img src=\"aux_data/media_munich/image6.jpeg\">\n",
    "             </td>  -->\n",
    "         </tr>\n",
    "    </table>\n",
    "</div>\n",
    "\n"
   ]
  },
  {
   "cell_type": "markdown",
   "metadata": {},
   "source": [
    "\n",
    "# Munich Test Site\n",
    "\n",
    "In the course of a joint field campaign, the team from LMU coupled with colleagues from the [*EnMap Project*](http://www.enmap.org/) to collect data for various soil and vegetation parameters. The test site is located north of Munich next to the river Isar and is characterized by extensive agricultural use, smooth topography and broad variation in soil texture classes. These characteristics make it an optimal location for validation purposes in the field of remote sensing.\n",
    "\n",
    "\n",
    "## Site Overview\n",
    "\n",
    "Five fields were approached/measured in total - two Maize and three winter-wheat/triticale.\n",
    "Soil moisture and plant parameters were measured at three points per field. The exact location of the individual sites were determined based on a long term growth map where points were set on high, medium and low growth areas respectively for each field.\n",
    "\n",
    "The sites north of Munich are shown below.\n",
    "\n",
    "![map](aux_data/media_munich/image33.png)\n",
    "\n",
    "\n",
    "## Measurements\n",
    "\n",
    "With the help of 14 student assistants, weekly measurements at the fields of *Stadtgüter München* (a municipal-lead agicultural consortium) were carried out in the period of growth during summer 2017. Additionally, autonomous measurements at 10 min interval provide critical information in soil moisure development and several climatic variables.\n",
    "\n",
    "\n",
    "The following parameters were recorded:\n",
    "\n",
    "- **Vegetation**\n",
    " - Biomass dry & wet\n",
    " - Fraction of brown leaves\n",
    " - Leaf Chlorophyll Content\n",
    " - Leaf Area Index\n",
    " - Leaf Inclination Angle (average + distribution)\n",
    " - Leaf Mass per Area\n",
    " - Nitrogen content in stem, leaves & fruit\n",
    " - Phenology\n",
    " - Plant height\n",
    " - Sowing meta (plants per meter, row orientation + spacing)\n",
    " - Water content in stem, leaves & fruit\n",
    " - Vegetation spectrum\n",
    "- **Soil**\n",
    " - Soil moisture (5, 10, 30cm depth)\n",
    " - Soil roughness\n",
    " - Soil temperature\n",
    " - Soil spectrum\n",
    " \n",
    "-  **Climate variables**\n",
    "\n",
    "## Utilized Data Sets in This Session/Case Study\n",
    "\n",
    "- Sentinel 1 (**tracks?**)\n",
    "- Sentinel 2 (**specific?**)\n",
    "- daily aggregated, interpolated soil moisture grids, retrieved from the field study\n",
    "- vegetation trait maps..\n",
    "\n",
    "The following plots show the relation of soil moisture - microwave backscatter - plant parameters (height, leaf area index (lai).\n",
    "\n",
    "![301_vh.png not available](aux_data/media_munich/plots_sm/301_vh.png)\n",
    "[zoom image (301_vh.png)](./aux_data/media_munich/plots_sm/301_vh.png)\n",
    "![301_vv.png not available](aux_data/media_munich/plots_sm/301_vv.png)\n",
    "[zoom image (301_vv.png)](./aux_data/media_munich/plots_sm/301_vv.png)\n",
    "\n",
    "\n",
    "\n",
    "# Water Cloud Model\n",
    "The Water Cloud model (WCM), also often to referred as the tau-omega model that was developed by Attema and Ulaby (1978), is currently implemented to infer soil and vegetation parameters in the SAR domain. For a given polarization pq (pq = HH, VV or VH), the Water Cloud model defines the backscattered radar signal in linear scale ($\\sigma_{tot}^{0}$) as the sum of the contribution from the vegetation ($\\sigma_{veg}^{0}$), the soil ($\\sigma_{soil}^{0}$) attenuated by the vegetation ($T^2\\sigma_{soil}^{0}$), and multiple soil-vegetation scatterings:\n",
    "\n",
    "\\begin{align}\n",
    "\\sigma^{0}_{tot,pq} &= \\sigma^{0}_{veg,pq}+T^{2}\\sigma^{0}_{soil}\\\\\n",
    "\\sigma^{0}_{veg,pq} &= A_{pq}V_{1}\\cos\\theta(1-T^{2}_{pq})\\\\\n",
    "T^{2}_{pq} &= e^{-2B_{pq}V_{2}sec\\theta}\\\\\n",
    "\\end{align}\n",
    "\n",
    "\n",
    "where $V_{1}$ and $V_{2}$ are the empirical vegetation’s descriptors. Apq and Bpq are fitted parameters of the model that depend on the vegetation descriptor and the radar configuration. Tpq2is the two way attenuation of the electromagnetic wave. The water cloud model has been widely used in different studies using different frequencies and various incidence angles. More recently, Baghdadi et al. (2017) used the water cloud model to retrieve soil moisture from Sentinel-1 C-band data over agricultural fields (cereals and grassland) in France and Tunisia. Hosseini and McNairn (2017) used the water cloud model to derive soil moisture and biomass of wheat from C- and L-Band.\n",
    "\n"
   ]
  },
  {
   "cell_type": "markdown",
   "metadata": {},
   "source": [
    "# Setting up the MULTIPLY Engine\n",
    "\n",
    "\n",
    "A wrapper function has been created to skip the initialization and configuration (already shown in preceding case study):"
   ]
  },
  {
   "cell_type": "code",
   "execution_count": null,
   "metadata": {},
   "outputs": [],
   "source": [
    "import test_site_munich\n",
    "\n",
    "# Select priors to use\n",
    "priors=['vegetation', 'SoilMoisture_CCI', 'SoilMoisture_Munich']\n",
    "\n",
    "# intialize platform for test case:\n",
    "prior_file_dicts = Initialize_Munich(priors=priors)\n",
    "\n",
    "# (you can specifiy the parameters [roi, ...] like in \n",
    "#  preceding case studies as keyword arguments)\n",
    "# e.g. Initialize_Munich(priors=priors, time_interval=6, )\n",
    "\n",
    "print(prior_file_dicts)"
   ]
  },
  {
   "cell_type": "code",
   "execution_count": null,
   "metadata": {
    "collapsed": true
   },
   "outputs": [],
   "source": []
  },
  {
   "cell_type": "code",
   "execution_count": null,
   "metadata": {
    "collapsed": true
   },
   "outputs": [],
   "source": [
    "roi = 'POLYGON ((48.0 11.3, 48.2 11.3, 48.1 11.1, 48.0 11.0, 48.0 11.3))'\n",
    "start_time_as_string = '2017-01-01'\n",
    "end_time_as_string = '2017-01-10'\n",
    "time_interval = 8\n",
    "time_interval_unit = 'days' # days or weeks\n",
    "spatial_resolution_x = 10 # in m\n",
    "spatial_resolution_y = 10 # in m\n",
    "variables = ['sm', 'lai', 'cab']"
   ]
  },
  {
   "cell_type": "code",
   "execution_count": 1,
   "metadata": {
    "collapsed": true
   },
   "outputs": [],
   "source": [
    "dac = ..."
   ]
  },
  {
   "cell_type": "code",
   "execution_count": 3,
   "metadata": {
    "scrolled": true
   },
   "outputs": [
    {
     "ename": "ModuleNotFoundError",
     "evalue": "No module named 'multiply_data_access'",
     "output_type": "error",
     "traceback": [
      "\u001b[0;31m---------------------------------------------------------------------------\u001b[0m",
      "\u001b[0;31mModuleNotFoundError\u001b[0m                       Traceback (most recent call last)",
      "\u001b[0;32m<ipython-input-3-347e8ec12981>\u001b[0m in \u001b[0;36m<module>\u001b[0;34m()\u001b[0m\n\u001b[0;32m----> 1\u001b[0;31m \u001b[0;32mfrom\u001b[0m \u001b[0mmultiply_data_access\u001b[0m \u001b[0;32mimport\u001b[0m \u001b[0mDataAccessComponent\u001b[0m\u001b[0;34m\u001b[0m\u001b[0m\n\u001b[0m\u001b[1;32m      2\u001b[0m \u001b[0mdata_access_component\u001b[0m \u001b[0;34m=\u001b[0m \u001b[0mDataAccessComponent\u001b[0m\u001b[0;34m(\u001b[0m\u001b[0;34m)\u001b[0m\u001b[0;34m\u001b[0m\u001b[0m\n\u001b[1;32m      3\u001b[0m \u001b[0;32mimport\u001b[0m \u001b[0mmultiply_workshop_utils\u001b[0m\u001b[0;34m.\u001b[0m\u001b[0mutils\u001b[0m \u001b[0;32mas\u001b[0m \u001b[0mutils\u001b[0m\u001b[0;34m\u001b[0m\u001b[0m\n\u001b[1;32m      4\u001b[0m \u001b[0mdata_stores_file\u001b[0m \u001b[0;34m=\u001b[0m \u001b[0mutils\u001b[0m\u001b[0;34m.\u001b[0m\u001b[0mget_data_stores_file\u001b[0m\u001b[0;34m(\u001b[0m\u001b[0;34m)\u001b[0m\u001b[0;34m\u001b[0m\u001b[0m\n\u001b[1;32m      5\u001b[0m \u001b[0mdata_access_component\u001b[0m\u001b[0;34m.\u001b[0m\u001b[0mread_data_stores\u001b[0m\u001b[0;34m(\u001b[0m\u001b[0mdata_stores_file\u001b[0m\u001b[0;34m)\u001b[0m\u001b[0;34m\u001b[0m\u001b[0m\n",
      "\u001b[0;31mModuleNotFoundError\u001b[0m: No module named 'multiply_data_access'"
     ]
    }
   ],
   "source": [
    "from multiply_data_access import DataAccessComponent\n",
    "data_access_component = DataAccessComponent()\n",
    "import multiply_workshop_utils.utils as utils\n",
    "data_stores_file = utils.get_data_stores_file()\n",
    "data_access_component.read_data_stores(data_stores_file)"
   ]
  },
  {
   "cell_type": "code",
   "execution_count": null,
   "metadata": {
    "collapsed": true
   },
   "outputs": [],
   "source": []
  },
  {
   "cell_type": "code",
   "execution_count": null,
   "metadata": {
    "collapsed": true
   },
   "outputs": [],
   "source": [
    "priors_sm_dir = data_access_component.get_data_urls(roi, start_time_as_string, \n",
    "                                                    end_time_as_string,\n",
    "                                                    'SoilMoisture')[0]\n",
    "priors_veg_dir = data_access_component.get_data_urls(roi, start_time_as_string, \n",
    "                                                     end_time_as_string,\n",
    "                                                     'Vegetation')[0]"
   ]
  },
  {
   "cell_type": "code",
   "execution_count": null,
   "metadata": {
    "collapsed": true
   },
   "outputs": [],
   "source": []
  },
  {
   "cell_type": "code",
   "execution_count": null,
   "metadata": {
    "collapsed": true
   },
   "outputs": [],
   "source": [
    "config = utils.get_config(priors_sm_dir=priors_sm_dir, priors_veg_dir=priors_veg_dir, \n",
    "                          roi=roi, start_time=start_time_as_string, \n",
    "                          end_time=end_time_as_string, variables=variables, \n",
    "                          time_interval=time_interval, \n",
    "                          time_interval_unit=time_interval_unit,\n",
    "                          spatial_resolution_x=spatial_resolution_x,\n",
    "                          spatial_resolution_y=spatial_resolution_y)\n",
    "config_file_name = '{}config.yml'.format(utils.get_out_path())\n",
    "import yaml\n",
    "yaml.dump(config, open(config_file_name, 'w+'))\n",
    "from multiply_core.util import AttributeDict\n",
    "config_as_dict = AttributeDict(**config)"
   ]
  },
  {
   "cell_type": "code",
   "execution_count": null,
   "metadata": {
    "collapsed": true
   },
   "outputs": [],
   "source": []
  },
  {
   "cell_type": "code",
   "execution_count": null,
   "metadata": {
    "collapsed": true
   },
   "outputs": [],
   "source": [
    "from datetime import datetime\n",
    "start_time = datetime.strptime(start_time_as_string, \"%Y-%m-%d\")\n",
    "end_time = datetime.strptime(end_time_as_string, \"%Y-%m-%d\")"
   ]
  },
  {
   "cell_type": "code",
   "execution_count": null,
   "metadata": {
    "collapsed": true
   },
   "outputs": [],
   "source": []
  },
  {
   "cell_type": "code",
   "execution_count": null,
   "metadata": {
    "collapsed": true
   },
   "outputs": [],
   "source": [
    "current_time = start_time\n",
    "prior_file_dicts = []\n",
    "from multiply_prior_engine import PriorEngine\n",
    "while current_time < end_time:\n",
    "    time_string = current_time.strftime(\"%Y-%m-%d\")\n",
    "    prior_engine = PriorEngine(datestr=time_string, variables=variables, config=(config_file_name))\n",
    "    prior_file_dicts.append(prior_engine.get_priors())\n",
    "    current_time = utils.increase_time_step(current_time, time_interval, time_interval_unit)"
   ]
  },
  {
   "cell_type": "code",
   "execution_count": null,
   "metadata": {
    "collapsed": true
   },
   "outputs": [],
   "source": []
  }
 ],
 "metadata": {
  "kernelspec": {
   "display_name": "Python 3",
   "language": "python",
   "name": "python3"
  },
  "language_info": {
   "codemirror_mode": {
    "name": "ipython",
    "version": 3
   },
   "file_extension": ".py",
   "mimetype": "text/x-python",
   "name": "python",
   "nbconvert_exporter": "python",
   "pygments_lexer": "ipython3",
   "version": "3.6.3"
  }
 },
 "nbformat": 4,
 "nbformat_minor": 1
}
